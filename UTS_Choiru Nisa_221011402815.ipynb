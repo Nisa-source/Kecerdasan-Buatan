{
 "cells": [
  {
   "cell_type": "code",
   "execution_count": 1,
   "id": "e64b8019-8ead-4dd9-bd72-77a1912c25d8",
   "metadata": {},
   "outputs": [],
   "source": [
    "#Nama  : Choiru Nisa\n",
    "#NIM   : 2221011400573\n",
    "#Kelas : 05TPLM007\n",
    "\n",
    "#Link github\n",
    "# https://github.com/Nisa-source/Kecerdasan-Buatan/\n",
    "\n",
    "# Data\n",
    "company_detail_list = [\n",
    "      {\n",
    "          'name': 'Company 1',\n",
    "          'domain': 'Retail',\n",
    "          'country': 'United States'\n",
    "      },\n",
    "      {\n",
    "          'name': 'Company 2',\n",
    "          'domain': 'Technology',\n",
    "          'country': 'United Kingdom'\n",
    "      },\n",
    "      {\n",
    "          'name': 'Company 3',\n",
    "          'domain': 'Healthcare',\n",
    "          'country': 'United States'\n",
    "      }\n",
    "  ]\n",
    "\n",
    "employee_detail_list = [\n",
    "     {\n",
    "          'name': 'EMP-0001',\n",
    "          'first_name': 'John',\n",
    "          'last_name': 'Doe',\n",
    "          'full_name': 'John Doe',\n",
    "          'company': 'Company 1',\n",
    "          'nationality': 'Australia'\n",
    "      },\n",
    "      {\n",
    "          'name': 'EMP-0002',\n",
    "          'first_name': 'Tom',\n",
    "          'last_name': 'Smith',\n",
    "          'full_name': 'Tom Smith',\n",
    "          'company': 'Company 2',\n",
    "          'nationality': 'United States'\n",
    "      },\n",
    "      {\n",
    "          'name': 'EMP-0003',\n",
    "          'first_name': 'Andrew',\n",
    "          'last_name': 'Sebastian',\n",
    "          'full_name': 'Andrew Sebastian',\n",
    "          'company': 'Company 3',\n",
    "          'nationality': 'United States'\n",
    "      },\n",
    "      {\n",
    "          'name': 'EMP-0005',\n",
    "          'first_name': 'Ying Han',\n",
    "          'last_name': 'Tan',\n",
    "          'full_name': 'Ying Han Tan',\n",
    "          'company': 'Company 1',\n",
    "          'nationality': 'Australia'\n",
    "      },\n",
    "      {\n",
    "          'name': 'EMP-0015',\n",
    "          'first_name': 'Kenneth',\n",
    "          'last_name': 'Ng',\n",
    "          'full_name': 'Kenneth Ng',\n",
    "          'company': 'Company 3',\n",
    "          'nationality': 'United States'\n",
    "      },\n",
    "      {\n",
    "          'name': 'EMP-0018',\n",
    "          'first_name': 'Rubby',\n",
    "          'last_name': 'Lee',\n",
    "          'full_name': 'Rubby Lee',\n",
    "          'company': 'Company 2',\n",
    "          'nationality': 'Hong Kong'\n",
    "      },\n",
    "     {\n",
    "          'name': 'EMP-0017',\n",
    "          'first_name': 'Robert',\n",
    "          'last_name': 'White',\n",
    "          'full_name': 'Robert White',\n",
    "          'company': 'Company 1',\n",
    "          'nationality': 'United Kingdom'\n",
    "      }\n",
    "  ]"
   ]
  },
  {
   "cell_type": "code",
   "execution_count": 2,
   "id": "d0ae3c43-14a9-4cb3-bc0b-802fa765c665",
   "metadata": {},
   "outputs": [
    {
     "name": "stdout",
     "output_type": "stream",
     "text": [
      "{'name': 'Company 3'}\n",
      "{'name': 'Company 2'}\n",
      "{'name': 'Company 1'}\n"
     ]
    }
   ],
   "source": [
    "#Nomor 1\n",
    "# Mengurutkan perusahaan berdasarkan nama secara terbalik dan hanya menampilkan nama perusahaan\n",
    "task1_result = sorted([{\"name\": c[\"name\"]} for c in company_detail_list], key=lambda x: x[\"name\"], reverse=True)\n",
    "for company in task1_result:\n",
    "    print(company)\n"
   ]
  },
  {
   "cell_type": "code",
   "execution_count": 3,
   "id": "2c53f98e-5b48-48f3-ae2a-c822f4bbe2e6",
   "metadata": {},
   "outputs": [
    {
     "name": "stdout",
     "output_type": "stream",
     "text": [
      "Company 1: Retail (United States)\n",
      "Company 2: Technology (United Kingdom)\n",
      "Company 3: Healthcare (United States)\n"
     ]
    }
   ],
   "source": [
    "#Nomor 2\n",
    "# Mencetak informasi nama, domain, dan negara dari setiap perusahaan dengan format rapi\n",
    "for company in company_detail_list:\n",
    "    print(f\"{company['name']}: {company['domain']} ({company['country']})\")"
   ]
  },
  {
   "cell_type": "code",
   "execution_count": 9,
   "id": "70c1e46a-9ba7-4955-83ce-d91291b13f4b",
   "metadata": {},
   "outputs": [
    {
     "name": "stdout",
     "output_type": "stream",
     "text": [
      "Retail: ['John Doe', 'Ying Han Tan', 'Robert White']\n",
      "Technology: ['Tom Smith', 'Rubby Lee']\n",
      "Healthcare: ['Andrew Sebastian', 'Kenneth Ng']\n"
     ]
    }
   ],
   "source": [
    "#Nomor 3\n",
    "# Membuat dictionary untuk mengelompokkan karyawan berdasarkan domain perusahaan\n",
    "from collections import defaultdict\n",
    "domain_employees = defaultdict(list)\n",
    "for employee in employee_detail_list:\n",
    "    domain = next(c[\"domain\"] for c in company_detail_list if c[\"name\"] == employee[\"company\"])\n",
    "    domain_employees[domain].append(employee[\"full_name\"])\n",
    "\n",
    "for domain, employees in domain_employees.items():\n",
    "    print(f\"{domain}: {employees}\")"
   ]
  },
  {
   "cell_type": "code",
   "execution_count": 10,
   "id": "37edaa6d-0485-49cb-b863-650862ba09dd",
   "metadata": {},
   "outputs": [
    {
     "name": "stdout",
     "output_type": "stream",
     "text": [
      "{'full_name': 'John Doe', 'company': 'Company 1', 'country': 'United States'}\n",
      "{'full_name': 'Tom Smith', 'company': 'Company 2', 'country': 'United Kingdom'}\n",
      "{'full_name': 'Andrew Sebastian', 'company': 'Company 3', 'country': 'United States'}\n",
      "{'full_name': 'Ying Han Tan', 'company': 'Company 1', 'country': 'United States'}\n",
      "{'full_name': 'Kenneth Ng', 'company': 'Company 3', 'country': 'United States'}\n",
      "{'full_name': 'Rubby Lee', 'company': 'Company 2', 'country': 'United Kingdom'}\n",
      "{'full_name': 'Robert White', 'company': 'Company 1', 'country': 'United States'}\n"
     ]
    }
   ],
   "source": [
    "#Nomor 4\n",
    "# Fungsi untuk mengembalikan karyawan beserta negara perusahaannya\n",
    "def employees_with_company_country():\n",
    "    return [\n",
    "        {\n",
    "            \"full_name\": e[\"full_name\"],\n",
    "            \"company\": e[\"company\"],\n",
    "            \"country\": next(c[\"country\"] for c in company_detail_list if c[\"name\"] == e[\"company\"])\n",
    "        }\n",
    "        for e in employee_detail_list\n",
    "    ]\n",
    "\n",
    "task4_result = employees_with_company_country()\n",
    "for employee in task4_result:\n",
    "    print(employee)"
   ]
  },
  {
   "cell_type": "code",
   "execution_count": 11,
   "id": "30a721d6-3660-483b-97d9-1372eb9802b3",
   "metadata": {},
   "outputs": [
    {
     "name": "stdout",
     "output_type": "stream",
     "text": [
      "{'company': 'Company 1', 'employee_nationality': {'Australia': 2, 'United Kingdom': 1}}\n",
      "{'company': 'Company 2', 'employee_nationality': {'United States': 1, 'Hong Kong': 1}}\n",
      "{'company': 'Company 3', 'employee_nationality': {'United States': 2}}\n"
     ]
    }
   ],
   "source": [
    "#Nomor 5\n",
    "# Fungsi untuk menghitung kewarganegaraan karyawan di setiap perusahaan\n",
    "def company_employee_nationalities():\n",
    "    company_nationalities = defaultdict(lambda: defaultdict(int))\n",
    "    for e in employee_detail_list:\n",
    "        company_nationalities[e[\"company\"]][e[\"nationality\"]] += 1\n",
    "\n",
    "    # Format hasil dalam bentuk list dictionary\n",
    "    return [{\"company\": k, \"employee_nationality\": dict(v)} for k, v in company_nationalities.items()]\n",
    "\n",
    "task5_result = company_employee_nationalities()\n",
    "for company in task5_result:\n",
    "    print(company)"
   ]
  },
  {
   "cell_type": "code",
   "execution_count": 12,
   "id": "ed58f1d1-2d31-4dac-a0ea-99649c631529",
   "metadata": {},
   "outputs": [],
   "source": [
    "#Link github\n",
    "# https://github.com/Nisa-source/Kecerdasan-Buatan/"
   ]
  },
  {
   "cell_type": "code",
   "execution_count": null,
   "id": "3a0a390c-9edd-448e-8078-8286e67161f1",
   "metadata": {},
   "outputs": [],
   "source": []
  }
 ],
 "metadata": {
  "kernelspec": {
   "display_name": "Python 3 (ipykernel)",
   "language": "python",
   "name": "python3"
  },
  "language_info": {
   "codemirror_mode": {
    "name": "ipython",
    "version": 3
   },
   "file_extension": ".py",
   "mimetype": "text/x-python",
   "name": "python",
   "nbconvert_exporter": "python",
   "pygments_lexer": "ipython3",
   "version": "3.12.6"
  }
 },
 "nbformat": 4,
 "nbformat_minor": 5
}
